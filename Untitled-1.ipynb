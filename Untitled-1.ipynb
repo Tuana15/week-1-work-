{
 "cells": [
  {
   "cell_type": "code",
   "execution_count": 4,
   "metadata": {},
   "outputs": [
    {
     "name": "stdout",
     "output_type": "stream",
     "text": [
      "Counter({'l': 2, 'a': 2, 'h': 1, 'e': 1, 'o': 1, ' ': 1, 't': 1, 'u': 1, 'n': 1})\n"
     ]
    }
   ],
   "source": [
    "# Exercise 2 answer\n",
    "from collections import Counter\n",
    "\n",
    "def count_characters(input_string):\n",
    "    char_count = Counter(input_string)\n",
    "    return char_count\n",
    "\n",
    "# collections bir modüldür. Counter ise bunun içindeki bir sınıf. Elemanların sayısını saymak için kullanılır.\n",
    "input_str = \"hello tuana\"\n",
    "result = count_characters(input_str)\n",
    "print(result)"
   ]
  },
  {
   "cell_type": "code",
   "execution_count": 3,
   "metadata": {},
   "outputs": [
    {
     "name": "stdout",
     "output_type": "stream",
     "text": [
      "The list has 5 elements.\n"
     ]
    }
   ],
   "source": [
    "# Exercise 1 answer\n",
    "def count_elements(my_list):\n",
    "    if not my_list:\n",
    "        raise ValueError(\"Error: The list is empty.\")\n",
    "    else:\n",
    "        return len(my_list)\n",
    "\n",
    "\n",
    "my_list = [2, 4, 6, 8, 10]\n",
    "try:\n",
    "    result = count_elements(my_list)\n",
    "    print(f\"The list has {result} elements.\")\n",
    "except ValueError as ve:\n",
    "    print(ve)"
   ]
  }
 ],
 "metadata": {
  "kernelspec": {
   "display_name": "Python 3",
   "language": "python",
   "name": "python3"
  },
  "language_info": {
   "codemirror_mode": {
    "name": "ipython",
    "version": 3
   },
   "file_extension": ".py",
   "mimetype": "text/x-python",
   "name": "python",
   "nbconvert_exporter": "python",
   "pygments_lexer": "ipython3",
   "version": "3.10.0"
  }
 },
 "nbformat": 4,
 "nbformat_minor": 2
}
